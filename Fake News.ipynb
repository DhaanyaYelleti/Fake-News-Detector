{
 "cells": [
  {
   "cell_type": "code",
   "execution_count": null,
   "id": "e4a48911-3fb8-43e5-8eb0-1db23985a4ca",
   "metadata": {},
   "outputs": [
    {
     "name": "stdout",
     "output_type": "stream",
     "text": [
      "Fake shape: (23481, 4)\n",
      "Real shape: (21417, 4)\n",
      "                                                text  label\n",
      "0  A woman who was born in Nazi Germany says that...      0\n",
      "1  BEIJING (Reuters) - A Chinese corruption suspe...      1\n",
      "2  Rep. Maxine Waters is taking a page right out ...      0\n",
      "3  And we wonder why violence like today s shooti...      0\n",
      "4  WASHINGTON (Reuters) - Four conservative U.S. ...      1\n",
      "              precision    recall  f1-score   support\n",
      "\n",
      "           0       0.94      0.93      0.94      4631\n",
      "           1       0.92      0.94      0.93      4349\n",
      "\n",
      "    accuracy                           0.93      8980\n",
      "   macro avg       0.93      0.93      0.93      8980\n",
      "weighted avg       0.93      0.93      0.93      8980\n",
      "\n"
     ]
    }
   ],
   "source": [
    "import pandas as pd\n",
    "\n",
    "fake = pd.read_csv(\"/Users/test/Downloads/archive/Fake.csv\")\n",
    "real = pd.read_csv(\"/Users/test/Downloads/archive/True.csv\")\n",
    "\n",
    "print(\"Fake shape:\", fake.shape)\n",
    "print(\"Real shape:\", real.shape)\n",
    "\n",
    "fake[\"label\"] = 0\n",
    "real[\"label\"] = 1\n",
    "\n",
    "df = pd.concat([fake, real], axis=0)\n",
    "df = df.sample(frac=1).reset_index(drop=True)  # Shuffle\n",
    "\n",
    "print(df[[\"text\", \"label\"]].head())\n",
    "import string\n",
    "import re\n",
    "\n",
    "def clean_text(text):\n",
    "    text = text.lower()\n",
    "    text = re.sub(r'\\[.*?\\]', '', text)  # remove brackets\n",
    "    text = re.sub(r'http\\S+', '', text)  # remove URLs\n",
    "    text = re.sub(f\"[{string.punctuation}]\", \"\", text)\n",
    "    return text\n",
    "\n",
    "df[\"clean_text\"] = df[\"text\"].apply(clean_text)\n",
    "from sklearn.model_selection import train_test_split\n",
    "from sklearn.feature_extraction.text import TfidfVectorizer\n",
    "from sklearn.naive_bayes import MultinomialNB\n",
    "from sklearn.metrics import classification_report\n",
    "\n",
    "X = df[\"clean_text\"]\n",
    "y = df[\"label\"]\n",
    "\n",
    "X_train, X_test, y_train, y_test = train_test_split(X, y, test_size=0.2, random_state=42)\n",
    "\n",
    "vectorizer = TfidfVectorizer(stop_words='english', max_df=0.7)\n",
    "X_train_vec = vectorizer.fit_transform(X_train)\n",
    "X_test_vec = vectorizer.transform(X_test)\n",
    "\n",
    "model = MultinomialNB()\n",
    "model.fit(X_train_vec, y_train)\n",
    "\n",
    "predictions = model.predict(X_test_vec)\n",
    "print(classification_report(y_test, predictions))\n"
   ]
  },
  {
   "cell_type": "code",
   "execution_count": null,
   "id": "b0b89407-bfce-4439-8c37-bcc396f5cad7",
   "metadata": {},
   "outputs": [],
   "source": []
  }
 ],
 "metadata": {
  "kernelspec": {
   "display_name": "Python 3 (ipykernel)",
   "language": "python",
   "name": "python3"
  },
  "language_info": {
   "codemirror_mode": {
    "name": "ipython",
    "version": 3
   },
   "file_extension": ".py",
   "mimetype": "text/x-python",
   "name": "python",
   "nbconvert_exporter": "python",
   "pygments_lexer": "ipython3",
   "version": "3.12.3"
  }
 },
 "nbformat": 4,
 "nbformat_minor": 5
}
